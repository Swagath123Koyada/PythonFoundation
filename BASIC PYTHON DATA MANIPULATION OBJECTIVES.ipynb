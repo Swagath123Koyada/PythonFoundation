{
 "cells": [
  {
   "cell_type": "markdown",
   "id": "3a6295d6",
   "metadata": {},
   "source": [
    "#          BASIC PYTHON DATA MANIPULATION OBJECTIVES:"
   ]
  },
  {
   "cell_type": "markdown",
   "id": "918a2d24",
   "metadata": {},
   "source": [
    "."
   ]
  },
  {
   "cell_type": "markdown",
   "id": "6b5dc0a3",
   "metadata": {},
   "source": [
    "### String Indexing:"
   ]
  },
  {
   "cell_type": "markdown",
   "id": "af10540a",
   "metadata": {},
   "source": [
    "1. What is the index of the first occurrence of the letter 'o' in the string \"Hello, world!\"?"
   ]
  },
  {
   "cell_type": "code",
   "execution_count": 1,
   "id": "fbe220a4",
   "metadata": {},
   "outputs": [
    {
     "name": "stdout",
     "output_type": "stream",
     "text": [
      "Index of the first occurrence of 'o': 4\n"
     ]
    }
   ],
   "source": [
    "# Define the string\n",
    "string = \"Hello, world!\"\n",
    "\n",
    "# Find the index of the first occurrence of 'o'\n",
    "index = string.find('o')\n",
    "\n",
    "# Print the index\n",
    "print(\"Index of the first occurrence of 'o':\", index)"
   ]
  },
  {
   "cell_type": "markdown",
   "id": "2ad147b3",
   "metadata": {},
   "source": [
    "2. How would you extract the substring \"world\" from the string \"Hello, world!\" using string indexing?"
   ]
  },
  {
   "cell_type": "code",
   "execution_count": 2,
   "id": "0bf6b361",
   "metadata": {},
   "outputs": [
    {
     "name": "stdout",
     "output_type": "stream",
     "text": [
      "Extracted substring: world\n"
     ]
    }
   ],
   "source": [
    "# Define the string\n",
    "string = \"Hello, world!\"\n",
    "\n",
    "# Extract the substring \"world\" using string indexing\n",
    "substring = string[7:12]\n",
    "\n",
    "# Print the extracted substring\n",
    "print(\"Extracted substring:\", substring)"
   ]
  },
  {
   "cell_type": "markdown",
   "id": "3568e2c3",
   "metadata": {},
   "source": [
    "3. Given the string \"racecar\", how would you check if it is a palindrome using string indexing?"
   ]
  },
  {
   "cell_type": "code",
   "execution_count": 3,
   "id": "69d55d07",
   "metadata": {},
   "outputs": [
    {
     "name": "stdout",
     "output_type": "stream",
     "text": [
      "The string is a palindrome.\n"
     ]
    }
   ],
   "source": [
    "# Define the string\n",
    "string = \"racecar\"\n",
    "\n",
    "# Check if the string is equal to its reverse\n",
    "is_palindrome = string == string[::-1]\n",
    "\n",
    "# Print the result\n",
    "if is_palindrome:\n",
    "    print(\"The string is a palindrome.\")\n",
    "else:\n",
    "    print(\"The string is not a palindrome.\")"
   ]
  },
  {
   "cell_type": "markdown",
   "id": "77e0a426",
   "metadata": {},
   "source": [
    "4. How would you reverse a string using string indexing?"
   ]
  },
  {
   "cell_type": "code",
   "execution_count": 4,
   "id": "904b6359",
   "metadata": {},
   "outputs": [
    {
     "name": "stdout",
     "output_type": "stream",
     "text": [
      "Reversed string: !dlrow ,olleH\n"
     ]
    }
   ],
   "source": [
    "# Define the string\n",
    "string = \"Hello, world!\"\n",
    "\n",
    "# Reverse the string using string indexing\n",
    "reversed_string = string[::-1]\n",
    "\n",
    "# Print the reversed string\n",
    "print(\"Reversed string:\", reversed_string)"
   ]
  },
  {
   "cell_type": "markdown",
   "id": "b7343c93",
   "metadata": {},
   "source": [
    "5. Given the string \"banana\", how would you access the last character using negative indexing?"
   ]
  },
  {
   "cell_type": "code",
   "execution_count": 6,
   "id": "47ef714b",
   "metadata": {},
   "outputs": [
    {
     "name": "stdout",
     "output_type": "stream",
     "text": [
      "Last character: a\n"
     ]
    }
   ],
   "source": [
    "# Define the string\n",
    "string = \"banana\"\n",
    "\n",
    "# Access the last character using negative indexing\n",
    "last_character = string[-1]\n",
    "\n",
    "# Print the last character\n",
    "print(\"Last character:\", last_character)"
   ]
  },
  {
   "cell_type": "markdown",
   "id": "ad23bd46",
   "metadata": {},
   "source": [
    "# List Operations:"
   ]
  },
  {
   "cell_type": "markdown",
   "id": "02c416f0",
   "metadata": {},
   "source": [
    "1.Given the list [1, 2, 3, 4, 5], how would you access the third element?"
   ]
  },
  {
   "cell_type": "code",
   "execution_count": 7,
   "id": "81158519",
   "metadata": {},
   "outputs": [
    {
     "name": "stdout",
     "output_type": "stream",
     "text": [
      "Third element: 3\n"
     ]
    }
   ],
   "source": [
    "# Define the list\n",
    "my_list = [1, 2, 3, 4, 5]\n",
    "\n",
    "# Access the third element\n",
    "third_element = my_list[2]\n",
    "\n",
    "# Print the third element\n",
    "print(\"Third element:\", third_element)"
   ]
  },
  {
   "cell_type": "markdown",
   "id": "676fa1ed",
   "metadata": {},
   "source": [
    "2.  How would you add an element to the end of a list?"
   ]
  },
  {
   "cell_type": "code",
   "execution_count": 9,
   "id": "2f36d5a5",
   "metadata": {},
   "outputs": [
    {
     "name": "stdout",
     "output_type": "stream",
     "text": [
      "Updated list: [1, 2, 3, 4, 5, 6]\n"
     ]
    }
   ],
   "source": [
    "# Define the list\n",
    "my_list = [1, 2, 3, 4, 5]\n",
    "\n",
    "# Add an element to the end of the list using append()\n",
    "my_list.append(6)\n",
    "\n",
    "# Print the updated list\n",
    "print(\"Updated list:\", my_list)"
   ]
  },
  {
   "cell_type": "markdown",
   "id": "6354a17c",
   "metadata": {},
   "source": [
    "3. Given the list [10, 20, 30, 40, 50], how would you change the value of the third element to 35?"
   ]
  },
  {
   "cell_type": "code",
   "execution_count": 10,
   "id": "478a6d81",
   "metadata": {},
   "outputs": [
    {
     "name": "stdout",
     "output_type": "stream",
     "text": [
      "Updated list: [10, 20, 35, 40, 50]\n"
     ]
    }
   ],
   "source": [
    "# Define the list\n",
    "my_list = [10, 20, 30, 40, 50]\n",
    "\n",
    "# Change the value of the third element to 35\n",
    "my_list[2] = 35\n",
    "\n",
    "# Print the updated list\n",
    "print(\"Updated list:\", my_list)"
   ]
  },
  {
   "cell_type": "markdown",
   "id": "cfebfa99",
   "metadata": {},
   "source": [
    "4. How would you remove the last element from a list?"
   ]
  },
  {
   "cell_type": "code",
   "execution_count": 11,
   "id": "1286c085",
   "metadata": {},
   "outputs": [
    {
     "name": "stdout",
     "output_type": "stream",
     "text": [
      "Updated list: [10, 20, 30, 40]\n"
     ]
    }
   ],
   "source": [
    "# Define the list\n",
    "my_list = [10, 20, 30, 40, 50]\n",
    "\n",
    "# Remove the last element from the list using pop()\n",
    "my_list.pop()\n",
    "\n",
    "# Print the updated list\n",
    "print(\"Updated list:\", my_list)"
   ]
  },
  {
   "cell_type": "markdown",
   "id": "23503576",
   "metadata": {},
   "source": [
    "5. Given the lists [1, 2, 3] and [4, 5, 6], how would you concatenate them into a single list?"
   ]
  },
  {
   "cell_type": "code",
   "execution_count": 12,
   "id": "59ede11d",
   "metadata": {},
   "outputs": [
    {
     "name": "stdout",
     "output_type": "stream",
     "text": [
      "Concatenated list: [1, 4, 2, 5, 3, 6]\n"
     ]
    }
   ],
   "source": [
    "# Define the lists\n",
    "list1 = [1, 2, 3]\n",
    "list2 = [4, 5, 6]\n",
    "\n",
    "# Concatenate the lists using the zip function\n",
    "concatenated_list = [item for sublist in zip(list1, list2) for item in sublist]\n",
    "\n",
    "# Print the concatenated list\n",
    "print(\"Concatenated list:\", concatenated_list)"
   ]
  },
  {
   "cell_type": "markdown",
   "id": "3a939b3e",
   "metadata": {},
   "source": [
    "# Dictionary Operations:"
   ]
  },
  {
   "cell_type": "markdown",
   "id": "d3e21a9a",
   "metadata": {},
   "source": [
    "1. Given the dictionary {'Name': 'John', 'Age': 30, 'City': 'New York'}, how would you access the value associated with the key 'age'?"
   ]
  },
  {
   "cell_type": "code",
   "execution_count": 27,
   "id": "2c06a95d",
   "metadata": {},
   "outputs": [
    {
     "name": "stdout",
     "output_type": "stream",
     "text": [
      "Value with the key 'Age': 30\n"
     ]
    }
   ],
   "source": [
    "# Using square bracket notation:\n",
    "\n",
    "    # Define the dictionary\n",
    "my_dict = {'Name': 'John', 'Age': 30, 'City': 'New York'}\n",
    "\n",
    "# Access the value with the key 'age' using square bracket notation\n",
    "age_value = my_dict['Age']\n",
    "\n",
    "# Print the value with the key 'age'\n",
    "print(\"Value with the key 'Age':\", age_value)"
   ]
  },
  {
   "cell_type": "code",
   "execution_count": 28,
   "id": "7559550e",
   "metadata": {},
   "outputs": [
    {
     "name": "stdout",
     "output_type": "stream",
     "text": [
      "Value with the key 'Age': 30\n"
     ]
    }
   ],
   "source": [
    "# Using the get() method:\n",
    "\n",
    "    # Define the dictionary\n",
    "my_dict = {'Name': 'John', 'Age': 30, 'City': 'New York'}\n",
    "\n",
    "# Access the value with the key 'age' using the get() method\n",
    "Age_Value = my_dict.get('Age')\n",
    "\n",
    "# Print the value with the key 'age'\n",
    "print(\"Value with the key 'Age':\", Age_Value)"
   ]
  },
  {
   "cell_type": "markdown",
   "id": "47a29d8c",
   "metadata": {},
   "source": [
    "2. How would you add a new key-value pair 'gender': 'Male' to the dictionary?"
   ]
  },
  {
   "cell_type": "code",
   "execution_count": 24,
   "id": "099acf86",
   "metadata": {},
   "outputs": [
    {
     "name": "stdout",
     "output_type": "stream",
     "text": [
      "Updated dictionary: {'Name': 'John', 'Age': 30, 'City': 'New York', 'Gender': 'Male'}\n"
     ]
    }
   ],
   "source": [
    "# Using square bracket notation:\n",
    "     \n",
    "    # Define the dictionary\n",
    "my_dict = {'Name': 'John', 'Age': 30, 'City': 'New York'}\n",
    "\n",
    "# Add a new key-value pair using square bracket notation\n",
    "my_dict['Gender'] = 'Male'\n",
    "\n",
    "# Print the updated dictionary\n",
    "print(\"Updated dictionary:\", my_dict)"
   ]
  },
  {
   "cell_type": "code",
   "execution_count": 29,
   "id": "8e602de0",
   "metadata": {},
   "outputs": [
    {
     "name": "stdout",
     "output_type": "stream",
     "text": [
      "Updated dictionary: {'Name': 'John', 'Age': 30, 'City': 'New York', 'Gender': 'Male'}\n"
     ]
    }
   ],
   "source": [
    "# Using the update() method:\n",
    "     \n",
    "    # Define the dictionary\n",
    "my_dict = {'Name': 'John', 'Age': 30, 'City': 'New York'}\n",
    "\n",
    "# Add a new key-value pair using the update() method\n",
    "my_dict.update({'Gender': 'Male'})\n",
    "\n",
    "# Print the updated dictionary\n",
    "print(\"Updated dictionary:\", my_dict)"
   ]
  },
  {
   "cell_type": "markdown",
   "id": "ad476c2b",
   "metadata": {},
   "source": [
    "3. Given the dictionary {'a': 1, 'b': 2, 'c': 3}, how would you change the value associated with the key 'b' to 5?"
   ]
  },
  {
   "cell_type": "code",
   "execution_count": 30,
   "id": "8693da0f",
   "metadata": {},
   "outputs": [
    {
     "name": "stdout",
     "output_type": "stream",
     "text": [
      "Updated dictionary: {'a': 1, 'b': 5, 'c': 3}\n"
     ]
    }
   ],
   "source": [
    "# Define the dictionary\n",
    "my_dict = {'a': 1, 'b': 2, 'c': 3}\n",
    "\n",
    "# Change the value associated with the key 'b' to 5\n",
    "my_dict['b'] = 5\n",
    "\n",
    "# Print the updated dictionary\n",
    "print(\"Updated dictionary:\", my_dict)"
   ]
  },
  {
   "cell_type": "markdown",
   "id": "113a7bfb",
   "metadata": {},
   "source": [
    "4. How would you remove a key-value pair from a dictionary?"
   ]
  },
  {
   "cell_type": "code",
   "execution_count": 31,
   "id": "798f939c",
   "metadata": {},
   "outputs": [
    {
     "name": "stdout",
     "output_type": "stream",
     "text": [
      "Updated dictionary: {'a': 1, 'c': 3}\n"
     ]
    }
   ],
   "source": [
    "# Using the del keyword:\n",
    "\n",
    "     # Define the dictionary\n",
    "my_dict = {'a': 1, 'b': 2, 'c': 3}\n",
    "\n",
    "# Remove the key-value pair using the del keyword\n",
    "del my_dict['b']\n",
    "\n",
    "# Print the updated dictionary\n",
    "print(\"Updated dictionary:\", my_dict)"
   ]
  },
  {
   "cell_type": "code",
   "execution_count": 33,
   "id": "f2d84e13",
   "metadata": {},
   "outputs": [
    {
     "name": "stdout",
     "output_type": "stream",
     "text": [
      "Updated dictionary: {'a': 1, 'c': 3}\n"
     ]
    }
   ],
   "source": [
    "# Using the pop() method:\n",
    "     \n",
    "    # Define the dictionary\n",
    "my_dict = {'a': 1, 'b': 2, 'c': 3}\n",
    "\n",
    "# Remove the key-value pair using the pop() method\n",
    "my_dict.pop('b')\n",
    "\n",
    "# Print the updated dictionary\n",
    "print(\"Updated dictionary:\", my_dict)"
   ]
  },
  {
   "cell_type": "markdown",
   "id": "0b993ecd",
   "metadata": {},
   "source": [
    "5. How would you create a dictionary from two lists, one containing keys and the other containing values?"
   ]
  },
  {
   "cell_type": "code",
   "execution_count": 34,
   "id": "f7f5d010",
   "metadata": {},
   "outputs": [
    {
     "name": "stdout",
     "output_type": "stream",
     "text": [
      "Created dictionary: {'a': 1, 'b': 2, 'c': 3}\n"
     ]
    }
   ],
   "source": [
    "# Using a dictionary comprehension:\n",
    "     \n",
    "    # Define the lists of keys and values\n",
    "keys = ['a', 'b', 'c']\n",
    "values = [1, 2, 3]\n",
    "\n",
    "# Create the dictionary using a dictionary comprehension\n",
    "my_dict = {k: v for k, v in zip(keys, values)}\n",
    "\n",
    "# Print the created dictionary\n",
    "print(\"Created dictionary:\", my_dict)"
   ]
  },
  {
   "cell_type": "markdown",
   "id": "3ef1415a",
   "metadata": {},
   "source": [
    "."
   ]
  },
  {
   "cell_type": "markdown",
   "id": "06124f64",
   "metadata": {},
   "source": [
    "\n",
    "# len() Function:"
   ]
  },
  {
   "cell_type": "markdown",
   "id": "4a3ba9f4",
   "metadata": {},
   "source": [
    "1. How would you use the len() function to find the number of elements in a list?"
   ]
  },
  {
   "cell_type": "code",
   "execution_count": 35,
   "id": "4de43fad",
   "metadata": {},
   "outputs": [
    {
     "name": "stdout",
     "output_type": "stream",
     "text": [
      "Number of elements in the list: 5\n"
     ]
    }
   ],
   "source": [
    "# Define the list\n",
    "my_list = [1, 2, 3, 4, 5]\n",
    "\n",
    "# Use the len() function to find the number of elements in the list\n",
    "list_length = len(my_list)\n",
    "\n",
    "# Print the number of elements in the list\n",
    "print(\"Number of elements in the list:\", list_length)"
   ]
  },
  {
   "cell_type": "markdown",
   "id": "91b1eff6",
   "metadata": {},
   "source": [
    "2. How would you use the len() function to find the number of characters in a string?"
   ]
  },
  {
   "cell_type": "code",
   "execution_count": 36,
   "id": "81a81b0d",
   "metadata": {},
   "outputs": [
    {
     "name": "stdout",
     "output_type": "stream",
     "text": [
      "Number of characters in the string: 13\n"
     ]
    }
   ],
   "source": [
    "# Define the string\n",
    "my_string = \"Hello, world!\"\n",
    "\n",
    "# Use the len() function to find the number of characters in the string\n",
    "string_length = len(my_string)\n",
    "\n",
    "# Print the number of characters in the string\n",
    "print(\"Number of characters in the string:\", string_length)"
   ]
  },
  {
   "cell_type": "markdown",
   "id": "4331350c",
   "metadata": {},
   "source": [
    "3. Given the dictionary {'a': 1, 'b': 2, 'c': 3}, how would you use the len() function to find the number of key-value pairs?"
   ]
  },
  {
   "cell_type": "code",
   "execution_count": 37,
   "id": "b9ecbd6f",
   "metadata": {},
   "outputs": [
    {
     "name": "stdout",
     "output_type": "stream",
     "text": [
      "Number of key-value pairs in the dictionary: 3\n"
     ]
    }
   ],
   "source": [
    "# Define the dictionary\n",
    "my_dict = {'a': 1, 'b': 2, 'c': 3}\n",
    "\n",
    "# Use the len() function to find the number of key-value pairs in the dictionary\n",
    "dict_length = len(my_dict)\n",
    "\n",
    "# Print the number of key-value pairs in the dictionary\n",
    "print(\"Number of key-value pairs in the dictionary:\", dict_length)"
   ]
  },
  {
   "cell_type": "markdown",
   "id": "3694bd36",
   "metadata": {},
   "source": [
    "4. Can you use the len() function with other data structures like tuples, sets, or dictionaries?"
   ]
  },
  {
   "cell_type": "code",
   "execution_count": 38,
   "id": "f4b3730f",
   "metadata": {},
   "outputs": [
    {
     "name": "stdout",
     "output_type": "stream",
     "text": [
      "Number of elements in the tuple: 5\n"
     ]
    }
   ],
   "source": [
    "# TUPLES:\n",
    "\n",
    "my_tuple = (1, 2, 3, 4, 5)\n",
    "tuple_length = len(my_tuple)\n",
    "print(\"Number of elements in the tuple:\", tuple_length)"
   ]
  },
  {
   "cell_type": "code",
   "execution_count": 39,
   "id": "73058624",
   "metadata": {},
   "outputs": [
    {
     "name": "stdout",
     "output_type": "stream",
     "text": [
      "Number of elements in the set: 5\n"
     ]
    }
   ],
   "source": [
    "# SETS:\n",
    "\n",
    "my_set = {1, 2, 3, 4, 5}\n",
    "set_length = len(my_set)\n",
    "print(\"Number of elements in the set:\", set_length)"
   ]
  },
  {
   "cell_type": "code",
   "execution_count": 40,
   "id": "bb7e5f1d",
   "metadata": {},
   "outputs": [
    {
     "name": "stdout",
     "output_type": "stream",
     "text": [
      "Number of key-value pairs in the dictionary: 3\n"
     ]
    }
   ],
   "source": [
    "# DICTIONARIES:\n",
    "\n",
    "my_dict = {'a': 1, 'b': 2, 'c': 3}\n",
    "dict_length = len(my_dict)\n",
    "print(\"Number of key-value pairs in the dictionary:\", dict_length)"
   ]
  },
  {
   "cell_type": "markdown",
   "id": "0dc3790d",
   "metadata": {},
   "source": [
    "5. How would you use the len() function to find the number of elements in a nested list?"
   ]
  },
  {
   "cell_type": "code",
   "execution_count": 41,
   "id": "c16cdfdf",
   "metadata": {},
   "outputs": [
    {
     "name": "stdout",
     "output_type": "stream",
     "text": [
      "Number of elements in the nested list: 9\n"
     ]
    }
   ],
   "source": [
    "# Define the nested list\n",
    "nested_list = [[1, 2, 3], [4, 5], [6, 7, 8, 9]]\n",
    "\n",
    "# Function to count elements in a nested list\n",
    "def count_elements(nested_list):\n",
    "    count = 0\n",
    "    for element in nested_list:\n",
    "        if isinstance(element, list):\n",
    "            count += count_elements(element)\n",
    "        else:\n",
    "            count += 1\n",
    "    return count\n",
    "\n",
    "# Use the len() function to find the number of elements\n",
    "num_elements = count_elements(nested_list)\n",
    "\n",
    "# Print the number of elements in the nested list\n",
    "print(\"Number of elements in the nested list:\", num_elements)"
   ]
  },
  {
   "cell_type": "markdown",
   "id": "1bf9c2d0",
   "metadata": {},
   "source": [
    "# sum() Function:"
   ]
  },
  {
   "cell_type": "markdown",
   "id": "9bfdc97c",
   "metadata": {},
   "source": [
    "1. How would you use the sum() function to find the sum of elements in a list of numbers?"
   ]
  },
  {
   "cell_type": "code",
   "execution_count": 42,
   "id": "4291ea92",
   "metadata": {},
   "outputs": [
    {
     "name": "stdout",
     "output_type": "stream",
     "text": [
      "Sum of elements in the list: 15\n"
     ]
    }
   ],
   "source": [
    "# Define the list of numbers\n",
    "numbers = [1, 2, 3, 4, 5]\n",
    "\n",
    "# Use the sum() function to find the sum of elements in the list\n",
    "sum_of_numbers = sum(numbers)\n",
    "\n",
    "# Print the sum of elements in the list\n",
    "print(\"Sum of elements in the list:\", sum_of_numbers)\n"
   ]
  },
  {
   "cell_type": "markdown",
   "id": "b11793ee",
   "metadata": {},
   "source": [
    "2. Can you use the sum() function with other iterable data types like tuples or sets?"
   ]
  },
  {
   "cell_type": "code",
   "execution_count": 43,
   "id": "62d4729b",
   "metadata": {},
   "outputs": [
    {
     "name": "stdout",
     "output_type": "stream",
     "text": [
      "Sum of elements in the tuple: 15\n"
     ]
    }
   ],
   "source": [
    "# TUPLES:\n",
    "\n",
    "my_tuple = (1, 2, 3, 4, 5)\n",
    "sum_of_tuple = sum(my_tuple)\n",
    "print(\"Sum of elements in the tuple:\", sum_of_tuple)"
   ]
  },
  {
   "cell_type": "code",
   "execution_count": 44,
   "id": "2c99c35e",
   "metadata": {},
   "outputs": [
    {
     "name": "stdout",
     "output_type": "stream",
     "text": [
      "Sum of elements in the set: 15\n"
     ]
    }
   ],
   "source": [
    "# SETS:\n",
    "\n",
    "my_set = {1, 2, 3, 4, 5}\n",
    "sum_of_set = sum(my_set)\n",
    "print(\"Sum of elements in the set:\", sum_of_set)"
   ]
  },
  {
   "cell_type": "code",
   "execution_count": 45,
   "id": "56a63e5b",
   "metadata": {},
   "outputs": [
    {
     "name": "stdout",
     "output_type": "stream",
     "text": [
      "Sum of values in the dictionary: 6\n"
     ]
    }
   ],
   "source": [
    "# DICTIONARIES:\n",
    "\n",
    "my_dict = {'a': 1, 'b': 2, 'c': 3}\n",
    "sum_of_values = sum(my_dict.values())\n",
    "print(\"Sum of values in the dictionary:\", sum_of_values)"
   ]
  },
  {
   "cell_type": "markdown",
   "id": "cc6295fe",
   "metadata": {},
   "source": [
    "3. How would you use the sum() function to find the sum of elements in a specific range of indices in a list?"
   ]
  },
  {
   "cell_type": "code",
   "execution_count": 48,
   "id": "7a2bd2d2",
   "metadata": {},
   "outputs": [
    {
     "name": "stdout",
     "output_type": "stream",
     "text": [
      "Sum of elements in the sublist: 44\n"
     ]
    }
   ],
   "source": [
    "# Define the list of numbers\n",
    "numbers = [1, 2, 3, 4, 5, 6, 7, 8, 9]\n",
    "\n",
    "# Define the range of indices\n",
    "start_index = 1\n",
    "end_index = 9\n",
    "\n",
    "# Use list slicing to extract the sublist within the specified range of indices\n",
    "sublist = numbers[start_index:end_index + 1]  # Add 1 to end_index to include it in the sublist\n",
    "\n",
    "# Use the sum() function to find the sum of elements in the sublist\n",
    "sum_of_sublist = sum(sublist)\n",
    "\n",
    "# Print the sum of elements in the sublist\n",
    "print(\"Sum of elements in the sublist:\", sum_of_sublist)"
   ]
  },
  {
   "cell_type": "markdown",
   "id": "e456c07a",
   "metadata": {},
   "source": [
    "4. How would you use the sum() function to find the sum of elements in a nested list?"
   ]
  },
  {
   "cell_type": "code",
   "execution_count": 49,
   "id": "ff9cab51",
   "metadata": {},
   "outputs": [
    {
     "name": "stdout",
     "output_type": "stream",
     "text": [
      "Sum of elements in the nested list: 45\n"
     ]
    }
   ],
   "source": [
    "# Define the nested list\n",
    "nested_list = [[1, 2, 3], [4, 5], [6, 7, 8, 9]]\n",
    "\n",
    "# Function to calculate the sum of elements in a nested list\n",
    "def sum_nested_list(nested_list):\n",
    "    total_sum = 0\n",
    "    for sublist in nested_list:\n",
    "        if isinstance(sublist, list):\n",
    "            total_sum += sum_nested_list(sublist)  # Recursively calculate sum of sublist\n",
    "        else:\n",
    "            total_sum += sublist  # Add non-list elements to total sum\n",
    "    return total_sum\n",
    "\n",
    "# Use the sum() function to find the sum of elements in the nested list\n",
    "sum_of_nested_list = sum_nested_list(nested_list)\n",
    "\n",
    "# Print the sum of elements in the nested list\n",
    "print(\"Sum of elements in the nested list:\", sum_of_nested_list)"
   ]
  },
  {
   "cell_type": "markdown",
   "id": "31e042ab",
   "metadata": {},
   "source": [
    "5. Can you customize the behavior of the sum() function by providing additional arguments?"
   ]
  },
  {
   "cell_type": "code",
   "execution_count": 50,
   "id": "470f4daa",
   "metadata": {},
   "outputs": [
    {
     "name": "stdout",
     "output_type": "stream",
     "text": [
      "Custom sum of numbers: 25\n"
     ]
    }
   ],
   "source": [
    "# Define a list of numbers\n",
    "numbers = [1, 2, 3, 4, 5]\n",
    "\n",
    "# Customize the behavior of the sum() function by providing an additional argument\n",
    "custom_sum = sum(numbers, 10)  # Start the sum from 10\n",
    "\n",
    "# Print the custom sum\n",
    "print(\"Custom sum of numbers:\", custom_sum)\n"
   ]
  },
  {
   "cell_type": "markdown",
   "id": "a97c6152",
   "metadata": {},
   "source": [
    "# max() Function:"
   ]
  },
  {
   "cell_type": "markdown",
   "id": "68f259fa",
   "metadata": {},
   "source": [
    "1. How would you use the max() function to find the largest element in a list of numbers?"
   ]
  },
  {
   "cell_type": "code",
   "execution_count": 51,
   "id": "c4acfe42",
   "metadata": {},
   "outputs": [
    {
     "name": "stdout",
     "output_type": "stream",
     "text": [
      "Largest element in the list: 50\n"
     ]
    }
   ],
   "source": [
    "# Define the list of numbers\n",
    "numbers = [10, 20, 30, 40, 50]\n",
    "\n",
    "# Use the max() function to find the largest element in the list\n",
    "largest_number = max(numbers)\n",
    "\n",
    "# Print the largest element in the list\n",
    "print(\"Largest element in the list:\", largest_number)"
   ]
  },
  {
   "cell_type": "markdown",
   "id": "d3b41e78",
   "metadata": {},
   "source": [
    "2. Can you use the max() function with other iterable data types like tuples or sets?"
   ]
  },
  {
   "cell_type": "code",
   "execution_count": 52,
   "id": "3ffbb6a5",
   "metadata": {},
   "outputs": [
    {
     "name": "stdout",
     "output_type": "stream",
     "text": [
      "Largest element in the tuple: 50\n"
     ]
    }
   ],
   "source": [
    "# TUPLES:\n",
    "\n",
    "my_tuple = (10, 20, 30, 40, 50)\n",
    "largest_number_in_tuple = max(my_tuple)\n",
    "print(\"Largest element in the tuple:\", largest_number_in_tuple)"
   ]
  },
  {
   "cell_type": "code",
   "execution_count": 53,
   "id": "0e54d218",
   "metadata": {},
   "outputs": [
    {
     "name": "stdout",
     "output_type": "stream",
     "text": [
      "Largest element in the set: 50\n"
     ]
    }
   ],
   "source": [
    "# SETS:\n",
    "\n",
    "my_set = {10, 20, 30, 40, 50}\n",
    "largest_number_in_set = max(my_set)\n",
    "print(\"Largest element in the set:\", largest_number_in_set)"
   ]
  },
  {
   "cell_type": "code",
   "execution_count": 54,
   "id": "5f777d21",
   "metadata": {},
   "outputs": [
    {
     "name": "stdout",
     "output_type": "stream",
     "text": [
      "Largest value in the dictionary: 30\n"
     ]
    }
   ],
   "source": [
    "# DICTIONARIES:\n",
    "\n",
    "my_dict = {'a': 10, 'b': 20, 'c': 30}\n",
    "largest_value_in_dict = max(my_dict.values())\n",
    "print(\"Largest value in the dictionary:\", largest_value_in_dict)"
   ]
  },
  {
   "cell_type": "markdown",
   "id": "51e87628",
   "metadata": {},
   "source": [
    "3. How would you use the max() function to find the largest element in a dictionary based on its values?"
   ]
  },
  {
   "cell_type": "code",
   "execution_count": 55,
   "id": "ba1dadcc",
   "metadata": {},
   "outputs": [
    {
     "name": "stdout",
     "output_type": "stream",
     "text": [
      "Largest value in the dictionary: 30\n"
     ]
    }
   ],
   "source": [
    "# Define the dictionary\n",
    "my_dict = {'a': 10, 'b': 20, 'c': 30}\n",
    "\n",
    "# Use the max() function to find the largest value in the dictionary\n",
    "largest_value = max(my_dict.values())\n",
    "\n",
    "# Print the largest value in the dictionary\n",
    "print(\"Largest value in the dictionary:\", largest_value)"
   ]
  },
  {
   "cell_type": "markdown",
   "id": "03789b94",
   "metadata": {},
   "source": [
    "4. Can you customize the behavior of the max() function by providing additional arguments?"
   ]
  },
  {
   "cell_type": "code",
   "execution_count": 58,
   "id": "3da52777",
   "metadata": {},
   "outputs": [
    {
     "name": "stdout",
     "output_type": "stream",
     "text": [
      "Longest string: pineapple\n"
     ]
    }
   ],
   "source": [
    "# Define a list of strings\n",
    "strings = [\"apple\", \"banana\", \"cherry\", \"pineapple\"]\n",
    "\n",
    "# Use the max() function with a custom key function to find the longest string\n",
    "longest_string = max(strings, key=len)\n",
    "\n",
    "# Print the longest string\n",
    "print(\"Longest string:\", longest_string)"
   ]
  },
  {
   "cell_type": "markdown",
   "id": "0243a864",
   "metadata": {},
   "source": [
    "5. How would you use the max() function to find the largest element in a specific range of indices in a list?"
   ]
  },
  {
   "cell_type": "code",
   "execution_count": 59,
   "id": "ead15bb9",
   "metadata": {},
   "outputs": [
    {
     "name": "stdout",
     "output_type": "stream",
     "text": [
      "Largest element in the sublist: 70\n"
     ]
    }
   ],
   "source": [
    "# Define the list of numbers\n",
    "numbers = [10, 20, 30, 40, 50, 60, 70, 80, 90]\n",
    "\n",
    "# Define the range of indices\n",
    "start_index = 2\n",
    "end_index = 6\n",
    "\n",
    "# Use list slicing to extract the sublist within the specified range of indices\n",
    "sublist = numbers[start_index:end_index + 1]  # Add 1 to end_index to include it in the sublist\n",
    "\n",
    "# Use the max() function to find the largest element in the sublist\n",
    "largest_in_sublist = max(sublist)\n",
    "\n",
    "# Print the largest element in the sublist\n",
    "print(\"Largest element in the sublist:\", largest_in_sublist)"
   ]
  },
  {
   "cell_type": "markdown",
   "id": "970fbc76",
   "metadata": {},
   "source": [
    "# min() Function:"
   ]
  },
  {
   "cell_type": "markdown",
   "id": "1b291038",
   "metadata": {},
   "source": [
    "1. How would you use the min() function to find the smallest element in a list of numbers?"
   ]
  },
  {
   "cell_type": "code",
   "execution_count": 60,
   "id": "31634e9e",
   "metadata": {},
   "outputs": [
    {
     "name": "stdout",
     "output_type": "stream",
     "text": [
      "Smallest element in the list: 5\n"
     ]
    }
   ],
   "source": [
    "# Define the list of numbers\n",
    "numbers = [10, 20, 5, 40, 30]\n",
    "\n",
    "# Use the min() function to find the smallest element in the list\n",
    "smallest_number = min(numbers)\n",
    "\n",
    "# Print the smallest element in the list\n",
    "print(\"Smallest element in the list:\", smallest_number)"
   ]
  },
  {
   "cell_type": "markdown",
   "id": "bdabf7fc",
   "metadata": {},
   "source": [
    "2. Can you use the min() function with other iterable data types like tuples or sets?"
   ]
  },
  {
   "cell_type": "code",
   "execution_count": 61,
   "id": "592d233d",
   "metadata": {},
   "outputs": [
    {
     "name": "stdout",
     "output_type": "stream",
     "text": [
      "Smallest element in the tuple: 5\n"
     ]
    }
   ],
   "source": [
    "# TUPLES:\n",
    "\n",
    "my_tuple = (10, 20, 5, 40, 30)\n",
    "smallest_number_in_tuple = min(my_tuple)\n",
    "print(\"Smallest element in the tuple:\", smallest_number_in_tuple)"
   ]
  },
  {
   "cell_type": "code",
   "execution_count": 66,
   "id": "c51763fd",
   "metadata": {},
   "outputs": [
    {
     "name": "stdout",
     "output_type": "stream",
     "text": [
      "Smallest element in the set: 10\n"
     ]
    }
   ],
   "source": [
    "# SETS:\n",
    "\n",
    "my_set = {10, 20, 50, 40, 30}\n",
    "smallest_number_in_set = min(my_set)\n",
    "print(\"Smallest element in the set:\", smallest_number_in_set)"
   ]
  },
  {
   "cell_type": "code",
   "execution_count": 67,
   "id": "1c030d93",
   "metadata": {},
   "outputs": [
    {
     "name": "stdout",
     "output_type": "stream",
     "text": [
      "Smallest value in the dictionary: 1\n"
     ]
    }
   ],
   "source": [
    "# DICTIONARIES:\n",
    "\n",
    "my_dict = {'a': 1, 'b': 20, 'c': 5}\n",
    "smallest_value_in_dict = min(my_dict.values())\n",
    "print(\"Smallest value in the dictionary:\", smallest_value_in_dict)"
   ]
  },
  {
   "cell_type": "markdown",
   "id": "17655c98",
   "metadata": {},
   "source": [
    "3. How would you use the min() function to find the minimum value in a dictionary?"
   ]
  },
  {
   "cell_type": "code",
   "execution_count": 69,
   "id": "e4a10422",
   "metadata": {},
   "outputs": [
    {
     "name": "stdout",
     "output_type": "stream",
     "text": [
      "Smallest value in the dictionary: 2\n"
     ]
    }
   ],
   "source": [
    "# Define the dictionary\n",
    "my_dict = {'a': 9, 'b': 2, 'c': 5}\n",
    "\n",
    "# Use the min() function to find the smallest value in the dictionary\n",
    "smallest_value = min(my_dict.values())\n",
    "\n",
    "# Print the smallest value in the dictionary\n",
    "print(\"Smallest value in the dictionary:\", smallest_value)"
   ]
  },
  {
   "cell_type": "markdown",
   "id": "6a14681c",
   "metadata": {},
   "source": [
    "4. Can you customize the behavior of the min() function by providing additional arguments?"
   ]
  },
  {
   "cell_type": "code",
   "execution_count": 70,
   "id": "2e7fd2d9",
   "metadata": {},
   "outputs": [
    {
     "name": "stdout",
     "output_type": "stream",
     "text": [
      "Shortest string: apple\n"
     ]
    }
   ],
   "source": [
    "# Define a list of strings\n",
    "strings = [\"apple\", \"banana\", \"cherry\", \"grapes\"]\n",
    "\n",
    "# Use the min() function with a custom key function to find the shortest string\n",
    "shortest_string = min(strings, key=len)\n",
    "\n",
    "# Print the shortest string\n",
    "print(\"Shortest string:\", shortest_string)"
   ]
  },
  {
   "cell_type": "markdown",
   "id": "3c6c8cfa",
   "metadata": {},
   "source": [
    "5. How would you use the min() function to find the smallest element based on a specific key in a list of dictionaries?"
   ]
  },
  {
   "cell_type": "code",
   "execution_count": 71,
   "id": "1a6510a5",
   "metadata": {},
   "outputs": [
    {
     "name": "stdout",
     "output_type": "stream",
     "text": [
      "Youngest person: {'name': 'Bob', 'age': 25}\n"
     ]
    }
   ],
   "source": [
    "# Define the list of dictionaries\n",
    "list_of_dicts = [\n",
    "    {'name': 'Alice', 'age': 30},\n",
    "    {'name': 'Bob', 'age': 25},\n",
    "    {'name': 'Charlie', 'age': 35}\n",
    "]\n",
    "\n",
    "# Use the min() function with a custom key function to find the dictionary with the smallest 'age'\n",
    "youngest_person = min(list_of_dicts, key=lambda x: x['age'])\n",
    "\n",
    "# Print the dictionary with the smallest 'age'\n",
    "print(\"Youngest person:\", youngest_person)"
   ]
  },
  {
   "cell_type": "markdown",
   "id": "0e201654",
   "metadata": {},
   "source": [
    "# abs() Function:"
   ]
  },
  {
   "cell_type": "markdown",
   "id": "e763074c",
   "metadata": {},
   "source": [
    "1. How would you use the abs() function to find the absolute value of -10?"
   ]
  },
  {
   "cell_type": "code",
   "execution_count": 72,
   "id": "846298f5",
   "metadata": {},
   "outputs": [
    {
     "name": "stdout",
     "output_type": "stream",
     "text": [
      "Absolute value of -10: 10\n"
     ]
    }
   ],
   "source": [
    "# Use the abs() function to find the absolute value of -10\n",
    "absolute_value = abs(-10)\n",
    "\n",
    "# Print the absolute value\n",
    "print(\"Absolute value of -10:\", absolute_value)"
   ]
  },
  {
   "cell_type": "markdown",
   "id": "7a600752",
   "metadata": {},
   "source": [
    "2. Can you use the abs() function with other numeric data types like floats and complex numbers?"
   ]
  },
  {
   "cell_type": "code",
   "execution_count": 78,
   "id": "33a6d45b",
   "metadata": {},
   "outputs": [
    {
     "name": "stdout",
     "output_type": "stream",
     "text": [
      "Absolute value of -10.5: 10.5\n"
     ]
    }
   ],
   "source": [
    "# Floats: \n",
    "\n",
    "# Absolute value of a float\n",
    "float_number = -10.5\n",
    "absolute_value_float = abs(float_number)\n",
    "print(\"Absolute value of -10.5:\", absolute_value_float)"
   ]
  },
  {
   "cell_type": "code",
   "execution_count": 82,
   "id": "b80d4a0e",
   "metadata": {},
   "outputs": [
    {
     "name": "stdout",
     "output_type": "stream",
     "text": [
      "Magnitude of 3 + 4j: 5.0\n"
     ]
    }
   ],
   "source": [
    "# Complex Numbers:\n",
    "\n",
    "# Absolute value of a complex number\n",
    "complex_number = 3 + 4j\n",
    "magnitude_complex = abs(complex_number)\n",
    "print(\"Magnitude of 3 + 4j:\", magnitude_complex)"
   ]
  },
  {
   "cell_type": "markdown",
   "id": "b2a48bf6",
   "metadata": {},
   "source": [
    "3. How would you use the abs() function to find the distance between two points on a number line?"
   ]
  },
  {
   "cell_type": "code",
   "execution_count": 83,
   "id": "170163b7",
   "metadata": {},
   "outputs": [
    {
     "name": "stdout",
     "output_type": "stream",
     "text": [
      "Distance between point1 and point2: 5\n"
     ]
    }
   ],
   "source": [
    "# Define the coordinates of the two points\n",
    "point1 = 5\n",
    "point2 = 10\n",
    "\n",
    "# Calculate the distance between the two points\n",
    "distance = abs(point2 - point1)\n",
    "\n",
    "# Print the distance between the two points\n",
    "print(\"Distance between point1 and point2:\", distance)"
   ]
  },
  {
   "cell_type": "markdown",
   "id": "ba22a79e",
   "metadata": {},
   "source": [
    "4. How would you use the abs() function to ensure that a value is always positive, regardless of its sign?"
   ]
  },
  {
   "cell_type": "code",
   "execution_count": 84,
   "id": "474f22c4",
   "metadata": {},
   "outputs": [
    {
     "name": "stdout",
     "output_type": "stream",
     "text": [
      "Positive value: 10\n"
     ]
    }
   ],
   "source": [
    "# Define a value\n",
    "value = -10\n",
    "\n",
    "# Ensure the value is always positive using the abs() function\n",
    "positive_value = abs(value)\n",
    "\n",
    "# Print the positive value\n",
    "print(\"Positive value:\", positive_value)"
   ]
  },
  {
   "cell_type": "markdown",
   "id": "d96e30f9",
   "metadata": {},
   "source": [
    "5. How would you use the abs() function to find the difference between two numbers without considering their signs?"
   ]
  },
  {
   "cell_type": "code",
   "execution_count": 85,
   "id": "d86b91b5",
   "metadata": {},
   "outputs": [
    {
     "name": "stdout",
     "output_type": "stream",
     "text": [
      "Absolute difference between number1 and number2: 10\n"
     ]
    }
   ],
   "source": [
    "# Define two numbers\n",
    "number1 = 20\n",
    "number2 = 30\n",
    "\n",
    "# Calculate the absolute difference between the two numbers\n",
    "absolute_difference = abs(number2 - number1)\n",
    "\n",
    "# Print the absolute difference\n",
    "print(\"Absolute difference between number1 and number2:\", absolute_difference)"
   ]
  },
  {
   "cell_type": "markdown",
   "id": "33b350d4",
   "metadata": {},
   "source": [
    "# sorted() Function:"
   ]
  },
  {
   "cell_type": "markdown",
   "id": "86684300",
   "metadata": {},
   "source": [
    "1. How would you use the sorted() function to sort a list of numbers in ascending order?"
   ]
  },
  {
   "cell_type": "code",
   "execution_count": 86,
   "id": "3e9c7feb",
   "metadata": {},
   "outputs": [
    {
     "name": "stdout",
     "output_type": "stream",
     "text": [
      "Sorted list of numbers: [1, 2, 5, 8, 10]\n"
     ]
    }
   ],
   "source": [
    "# Define the list of numbers\n",
    "numbers = [5, 2, 8, 1, 10]\n",
    "\n",
    "# Use the sorted() function to sort the list in ascending order\n",
    "sorted_numbers = sorted(numbers)\n",
    "\n",
    "# Print the sorted list\n",
    "print(\"Sorted list of numbers:\", sorted_numbers)"
   ]
  },
  {
   "cell_type": "markdown",
   "id": "3cae280c",
   "metadata": {},
   "source": [
    "2. Can you use the sorted() function with other iterable data types like tuples or sets?"
   ]
  },
  {
   "cell_type": "code",
   "execution_count": 87,
   "id": "87e4b6c8",
   "metadata": {},
   "outputs": [
    {
     "name": "stdout",
     "output_type": "stream",
     "text": [
      "Sorted tuple of numbers: [1, 2, 5, 8, 10]\n"
     ]
    }
   ],
   "source": [
    "# TUPLES:\n",
    "\n",
    "my_tuple = (5, 2, 8, 1, 10)\n",
    "sorted_tuple = sorted(my_tuple)\n",
    "print(\"Sorted tuple of numbers:\", sorted_tuple)"
   ]
  },
  {
   "cell_type": "code",
   "execution_count": 89,
   "id": "625cbb1b",
   "metadata": {},
   "outputs": [
    {
     "name": "stdout",
     "output_type": "stream",
     "text": [
      "Sorted list from set: [1, 2, 5, 8, 10]\n"
     ]
    }
   ],
   "source": [
    "# SETS:\n",
    "\n",
    "my_set = {5, 2, 8, 1, 10}\n",
    "sorted_set = sorted(my_set)\n",
    "print(\"Sorted list from set:\", sorted_set)"
   ]
  },
  {
   "cell_type": "code",
   "execution_count": 90,
   "id": "34114db2",
   "metadata": {},
   "outputs": [
    {
     "name": "stdout",
     "output_type": "stream",
     "text": [
      "Sorted dictionary keys: ['a', 'b', 'c']\n"
     ]
    }
   ],
   "source": [
    "# DICTIONARIES:\n",
    "\n",
    "my_dict = {'b': 2, 'a': 1, 'c': 3}\n",
    "sorted_dict_keys = sorted(my_dict)\n",
    "print(\"Sorted dictionary keys:\", sorted_dict_keys)"
   ]
  },
  {
   "cell_type": "markdown",
   "id": "3720b369",
   "metadata": {},
   "source": [
    "3. How would you use the sorted() function to sort a list of strings in alphabetical order?"
   ]
  },
  {
   "cell_type": "code",
   "execution_count": 94,
   "id": "443dac1f",
   "metadata": {},
   "outputs": [
    {
     "name": "stdout",
     "output_type": "stream",
     "text": [
      "Sorted list of strings: ['apple', 'banana', 'cherry', 'orange', 'pineapple']\n"
     ]
    }
   ],
   "source": [
    "# Define the list of strings\n",
    "strings = [\"banana\", \"pineapple\", \"orange\", \"cherry\", \"apple\"]\n",
    "\n",
    "# Use the sorted() function to sort the list of strings in alphabetical order\n",
    "sorted_strings = sorted(strings)\n",
    "\n",
    "# Print the sorted list of strings\n",
    "print(\"Sorted list of strings:\", sorted_strings)"
   ]
  },
  {
   "cell_type": "markdown",
   "id": "451082bf",
   "metadata": {},
   "source": [
    "4. How would you use the sorted() function to sort a list of dictionaries based on a specific key?"
   ]
  },
  {
   "cell_type": "code",
   "execution_count": 95,
   "id": "7c9440d1",
   "metadata": {},
   "outputs": [
    {
     "name": "stdout",
     "output_type": "stream",
     "text": [
      "Sorted list of dictionaries based on 'age': [{'name': 'Bob', 'age': 25}, {'name': 'Alice', 'age': 30}, {'name': 'Charlie', 'age': 35}]\n"
     ]
    }
   ],
   "source": [
    "# Define the list of dictionaries\n",
    "list_of_dicts = [\n",
    "    {'name': 'Alice', 'age': 30},\n",
    "    {'name': 'Bob', 'age': 25},\n",
    "    {'name': 'Charlie', 'age': 35}\n",
    "]\n",
    "\n",
    "# Use the sorted() function with a custom key function to sort the list of dictionaries based on the 'age' key\n",
    "sorted_list_of_dicts = sorted(list_of_dicts, key=lambda x: x['age'])\n",
    "\n",
    "# Print the sorted list of dictionaries\n",
    "print(\"Sorted list of dictionaries based on 'age':\", sorted_list_of_dicts)"
   ]
  },
  {
   "cell_type": "markdown",
   "id": "c3db0992",
   "metadata": {},
   "source": [
    "5. How would you use the sorted() function to sort a list of tuples based on a specific element?"
   ]
  },
  {
   "cell_type": "code",
   "execution_count": 97,
   "id": "a5050679",
   "metadata": {},
   "outputs": [
    {
     "name": "stdout",
     "output_type": "stream",
     "text": [
      "Sorted list of tuples based on the second element: [('Bob', 25), ('Alice', 30), ('Charlie', 35)]\n"
     ]
    }
   ],
   "source": [
    "# Define the list of tuples\n",
    "list_of_tuples = [\n",
    "    ('Alice', 30),\n",
    "    ('Bob', 25),\n",
    "    ('Charlie', 35)\n",
    "]\n",
    "\n",
    "# Use the sorted() function with a custom key function to sort the list of tuples based on the second element (index 1)\n",
    "sorted_list_of_tuples = sorted(list_of_tuples, key=lambda x: x[1])\n",
    "\n",
    "# Print the sorted list of tuples\n",
    "print(\"Sorted list of tuples based on the second element:\", sorted_list_of_tuples)"
   ]
  },
  {
   "cell_type": "markdown",
   "id": "0c9dbba9",
   "metadata": {},
   "source": [
    "# Class Creation:"
   ]
  },
  {
   "cell_type": "markdown",
   "id": "61912170",
   "metadata": {},
   "source": [
    "1. Define a class Car with attributes make, model, and year. Implement a method display_info() that prints out the car's make, model, and year."
   ]
  },
  {
   "cell_type": "code",
   "execution_count": 98,
   "id": "676c71cc",
   "metadata": {},
   "outputs": [
    {
     "name": "stdout",
     "output_type": "stream",
     "text": [
      "Car Make: Toyota\n",
      "Car Model: Corolla\n",
      "Car Year: 2020\n"
     ]
    }
   ],
   "source": [
    "class Car:\n",
    "    def __init__(self, make, model, year):\n",
    "        self.make = make\n",
    "        self.model = model\n",
    "        self.year = year\n",
    "\n",
    "    def display_info(self):\n",
    "        print(\"Car Make:\", self.make)\n",
    "        print(\"Car Model:\", self.model)\n",
    "        print(\"Car Year:\", self.year)\n",
    "\n",
    "# Example usage:\n",
    "car1 = Car(\"Toyota\", \"Corolla\", 2020)\n",
    "car1.display_info()"
   ]
  },
  {
   "cell_type": "markdown",
   "id": "a90493fa",
   "metadata": {},
   "source": [
    "2. Create a class Book with attributes title, author, and pages. Implement a method display_info() that prints out the book's title, author, and number of pages."
   ]
  },
  {
   "cell_type": "code",
   "execution_count": 103,
   "id": "9e71d122",
   "metadata": {},
   "outputs": [
    {
     "name": "stdout",
     "output_type": "stream",
     "text": [
      "Title: The Great Gatsby\n",
      "Author: F. Scott Fitzgerald\n",
      "Number of Pages: 180\n"
     ]
    }
   ],
   "source": [
    "class Book:\n",
    "    def __init__(self, title, author, pages):\n",
    "        self.title = title\n",
    "        self.author = author\n",
    "        self.pages = pages\n",
    "\n",
    "    def display_info(self):\n",
    "        print(\"Title:\", self.title)\n",
    "        print(\"Author:\", self.author)\n",
    "        print(\"Number of Pages:\", self.pages)\n",
    "\n",
    "# Example usage:\n",
    "book = Book(\"The Great Gatsby\", \"F. Scott Fitzgerald\", 180)\n",
    "book.display_info()"
   ]
  },
  {
   "cell_type": "markdown",
   "id": "9dab46e1",
   "metadata": {},
   "source": [
    "3. Define a class Student with attributes name and age. Implement a method is_adult() that returns True if the student is 18 years or older, otherwise False."
   ]
  },
  {
   "cell_type": "code",
   "execution_count": 100,
   "id": "0d944647",
   "metadata": {},
   "outputs": [
    {
     "name": "stdout",
     "output_type": "stream",
     "text": [
      "Is student1 an adult? True\n",
      "Is student2 an adult? False\n"
     ]
    }
   ],
   "source": [
    "class Student:\n",
    "    def __init__(self, name, age):\n",
    "        self.name = name\n",
    "        self.age = age\n",
    "\n",
    "    def is_adult(self):\n",
    "        return self.age >= 18\n",
    "\n",
    "# Example usage:\n",
    "student1 = Student(\"Alice\", 20)\n",
    "print(\"Is student1 an adult?\", student1.is_adult())  # True\n",
    "\n",
    "student2 = Student(\"Bob\", 16)\n",
    "print(\"Is student2 an adult?\", student2.is_adult())  # False"
   ]
  },
  {
   "cell_type": "markdown",
   "id": "59e0bb53",
   "metadata": {},
   "source": [
    "4. Create a class Dog with attributes name, breed, and age. Implement a method speak() that prints out the dog's name and says \"Woof!\"."
   ]
  },
  {
   "cell_type": "code",
   "execution_count": 104,
   "id": "90de8d84",
   "metadata": {},
   "outputs": [
    {
     "name": "stdout",
     "output_type": "stream",
     "text": [
      "Buddy says 'Woof!'\n"
     ]
    }
   ],
   "source": [
    "class Dog:\n",
    "    def __init__(self, name, breed, age):\n",
    "        self.name = name\n",
    "        self.breed = breed\n",
    "        self.age = age\n",
    "\n",
    "    def speak(self):\n",
    "        print(f\"{self.name} says 'Woof!'\")\n",
    "\n",
    "# Example usage:\n",
    "dog = Dog(\"Oscar\", \"Labrador Retriever\", 3)\n",
    "dog.speak()"
   ]
  },
  {
   "cell_type": "markdown",
   "id": "ceb0b967",
   "metadata": {},
   "source": [
    "5. Define a class Rectangle with attributes length and width. Implement methods area() and perimeter() to calculate and return the area and perimeter of the rectangle, respectively."
   ]
  },
  {
   "cell_type": "code",
   "execution_count": 102,
   "id": "1f7542db",
   "metadata": {},
   "outputs": [
    {
     "name": "stdout",
     "output_type": "stream",
     "text": [
      "Area of the rectangle: 15\n",
      "Perimeter of the rectangle: 16\n"
     ]
    }
   ],
   "source": [
    "class Rectangle:\n",
    "    def __init__(self, length, width):\n",
    "        self.length = length\n",
    "        self.width = width\n",
    "\n",
    "    def area(self):\n",
    "        return self.length * self.width\n",
    "\n",
    "    def perimeter(self):\n",
    "        return 2 * (self.length + self.width)\n",
    "\n",
    "# Example usage:\n",
    "rectangle = Rectangle(5, 3)\n",
    "print(\"Area of the rectangle:\", rectangle.area())\n",
    "print(\"Perimeter of the rectangle:\", rectangle.perimeter())"
   ]
  },
  {
   "cell_type": "markdown",
   "id": "2609012d",
   "metadata": {},
   "source": [
    "."
   ]
  },
  {
   "cell_type": "markdown",
   "id": "9d340a5a",
   "metadata": {},
   "source": [
    "# Class Inheritance:"
   ]
  },
  {
   "cell_type": "markdown",
   "id": "301bc2bf",
   "metadata": {},
   "source": [
    "1. Define a class Animal with attributes name and species. Create a subclass Dog that inherits from Animal and adds an attribute breed. Implement a method speak() in both classes to print out the sound the animal makes."
   ]
  },
  {
   "cell_type": "code",
   "execution_count": 1,
   "id": "1a99a80d",
   "metadata": {},
   "outputs": [
    {
     "name": "stdout",
     "output_type": "stream",
     "text": [
      "Buddy says 'Woof!'\n"
     ]
    }
   ],
   "source": [
    "class Animal:\n",
    "    def __init__(self, name, species):\n",
    "        self.name = name\n",
    "        self.species = species\n",
    "\n",
    "    def speak(self):\n",
    "        pass  # This method will be overridden in subclasses\n",
    "\n",
    "class Dog(Animal):\n",
    "    def __init__(self, name, species, breed):\n",
    "        super().__init__(name, species)\n",
    "        self.breed = breed\n",
    "\n",
    "    def speak(self):\n",
    "        print(f\"{self.name} says 'Woof!'\")\n",
    "\n",
    "# Example usage:\n",
    "animal = Animal(\"Kitty\", \"Cat\")\n",
    "animal.speak()  # This will not print any sound as speak() method is not implemented in Animal class\n",
    "\n",
    "dog = Dog(\"Buddy\", \"Dog\", \"Labrador Retriever\")\n",
    "dog.speak()  # This will print \"Buddy says 'Woof!'\""
   ]
  },
  {
   "cell_type": "markdown",
   "id": "34ec26b7",
   "metadata": {},
   "source": [
    "2. Create a class Shape with attributes color and filled. Define a subclass Rectangle that inherits from Shape and adds attributes length and width. Implement methods area() and perimeter() in both classes to calculate and return the area and perimeter of the shape."
   ]
  },
  {
   "cell_type": "code",
   "execution_count": 2,
   "id": "7952ff9d",
   "metadata": {},
   "outputs": [
    {
     "name": "stdout",
     "output_type": "stream",
     "text": [
      "Area of the rectangle: 15\n",
      "Perimeter of the rectangle: 16\n"
     ]
    }
   ],
   "source": [
    "class Shape:\n",
    "    def __init__(self, color, filled):\n",
    "        self.color = color\n",
    "        self.filled = filled\n",
    "\n",
    "    def area(self):\n",
    "        pass  # This method will be overridden in subclasses\n",
    "\n",
    "    def perimeter(self):\n",
    "        pass  # This method will be overridden in subclasses\n",
    "\n",
    "class Rectangle(Shape):\n",
    "    def __init__(self, color, filled, length, width):\n",
    "        super().__init__(color, filled)\n",
    "        self.length = length\n",
    "        self.width = width\n",
    "\n",
    "    def area(self):\n",
    "        return self.length * self.width\n",
    "\n",
    "    def perimeter(self):\n",
    "        return 2 * (self.length + self.width)\n",
    "\n",
    "# Example usage:\n",
    "rectangle = Rectangle(\"red\", True, 5, 3)\n",
    "print(\"Area of the rectangle:\", rectangle.area())\n",
    "print(\"Perimeter of the rectangle:\", rectangle.perimeter())"
   ]
  },
  {
   "cell_type": "markdown",
   "id": "ecf2dfc2",
   "metadata": {},
   "source": [
    "3. Define a class Person with attributes name and age. Create a subclass Employee that inherits from Person and adds attributes employee_id and salary. Implement a method display_info() in both classes to print out the person's information."
   ]
  },
  {
   "cell_type": "code",
   "execution_count": 3,
   "id": "07286b9d",
   "metadata": {},
   "outputs": [
    {
     "name": "stdout",
     "output_type": "stream",
     "text": [
      "Name: Alice\n",
      "Age: 30\n",
      "Name: Bob\n",
      "Age: 25\n",
      "Employee ID: E12345\n",
      "Salary: 50000\n"
     ]
    }
   ],
   "source": [
    "class Person:\n",
    "    def __init__(self, name, age):\n",
    "        self.name = name\n",
    "        self.age = age\n",
    "\n",
    "    def display_info(self):\n",
    "        print(\"Name:\", self.name)\n",
    "        print(\"Age:\", self.age)\n",
    "\n",
    "class Employee(Person):\n",
    "    def __init__(self, name, age, employee_id, salary):\n",
    "        super().__init__(name, age)\n",
    "        self.employee_id = employee_id\n",
    "        self.salary = salary\n",
    "\n",
    "    def display_info(self):\n",
    "        super().display_info()\n",
    "        print(\"Employee ID:\", self.employee_id)\n",
    "        print(\"Salary:\", self.salary)\n",
    "\n",
    "# Example usage:\n",
    "person = Person(\"Alice\", 30)\n",
    "person.display_info()  # This will print only name and age\n",
    "\n",
    "employee = Employee(\"Bob\", 25, \"E12345\", 50000)\n",
    "employee.display_info()  # This will print name, age, employee ID, and salary"
   ]
  },
  {
   "cell_type": "markdown",
   "id": "1bb31eb8",
   "metadata": {},
   "source": [
    "4. Create a class Vehicle with attributes make, model, and year. Define a subclass Car that inherits from Vehicle and adds an attribute color. Implement a method display_info() in both classes to print out the vehicle's information."
   ]
  },
  {
   "cell_type": "code",
   "execution_count": 4,
   "id": "0dcac6c9",
   "metadata": {},
   "outputs": [
    {
     "name": "stdout",
     "output_type": "stream",
     "text": [
      "Make: Toyota\n",
      "Model: Corolla\n",
      "Year: 2020\n",
      "Make: Honda\n",
      "Model: Civic\n",
      "Year: 2018\n",
      "Color: Blue\n"
     ]
    }
   ],
   "source": [
    "class Vehicle:\n",
    "    def __init__(self, make, model, year):\n",
    "        self.make = make\n",
    "        self.model = model\n",
    "        self.year = year\n",
    "\n",
    "    def display_info(self):\n",
    "        print(\"Make:\", self.make)\n",
    "        print(\"Model:\", self.model)\n",
    "        print(\"Year:\", self.year)\n",
    "\n",
    "class Car(Vehicle):\n",
    "    def __init__(self, make, model, year, color):\n",
    "        super().__init__(make, model, year)\n",
    "        self.color = color\n",
    "\n",
    "    def display_info(self):\n",
    "        super().display_info()\n",
    "        print(\"Color:\", self.color)\n",
    "\n",
    "# Example usage:\n",
    "vehicle = Vehicle(\"Toyota\", \"Corolla\", 2020)\n",
    "vehicle.display_info()  # This will print vehicle's make, model, and year\n",
    "\n",
    "car = Car(\"Honda\", \"Civic\", 2018, \"Blue\")\n",
    "car.display_info()  # This will print car's make, model, year, and color"
   ]
  },
  {
   "cell_type": "markdown",
   "id": "de14750a",
   "metadata": {},
   "source": [
    "5. Create a class Fruit with attributes name and color. Define a subclass Apple that inherits from Fruit and adds attributes taste and size. Implement a method is_delicious() in both classes to determine if the fruit is delicious based on its taste."
   ]
  },
  {
   "cell_type": "code",
   "execution_count": 5,
   "id": "8f69a508",
   "metadata": {},
   "outputs": [
    {
     "name": "stdout",
     "output_type": "stream",
     "text": [
      "Is banana delicious? True\n",
      "Is apple delicious? True\n"
     ]
    }
   ],
   "source": [
    "class Fruit:\n",
    "    def __init__(self, name, color):\n",
    "        self.name = name\n",
    "        self.color = color\n",
    "\n",
    "    def is_delicious(self):\n",
    "        return True  # Placeholder method to be overridden in subclasses\n",
    "\n",
    "class Apple(Fruit):\n",
    "    def __init__(self, name, color, taste, size):\n",
    "        super().__init__(name, color)\n",
    "        self.taste = taste\n",
    "        self.size = size\n",
    "\n",
    "    def is_delicious(self):\n",
    "        return self.taste == \"sweet\"\n",
    "\n",
    "# Example usage:\n",
    "fruit = Fruit(\"Banana\", \"Yellow\")\n",
    "print(\"Is banana delicious?\", fruit.is_delicious())  # This will always print True (placeholder)\n",
    "\n",
    "apple = Apple(\"Apple\", \"Red\", \"sweet\", \"medium\")\n",
    "print(\"Is apple delicious?\", apple.is_delicious())  # This will print True if apple taste is sweet"
   ]
  },
  {
   "cell_type": "markdown",
   "id": "767f81f6",
   "metadata": {},
   "source": [
    "# Looping Statements"
   ]
  },
  {
   "cell_type": "markdown",
   "id": "9fe25be8",
   "metadata": {},
   "source": [
    "**For Loop:**"
   ]
  },
  {
   "cell_type": "markdown",
   "id": "da638663",
   "metadata": {},
   "source": [
    "1. Write a program to print the numbers from 1 to 10 using a for loop."
   ]
  },
  {
   "cell_type": "code",
   "execution_count": 6,
   "id": "d9dcd2c0",
   "metadata": {},
   "outputs": [
    {
     "name": "stdout",
     "output_type": "stream",
     "text": [
      "1\n",
      "2\n",
      "3\n",
      "4\n",
      "5\n",
      "6\n",
      "7\n",
      "8\n",
      "9\n",
      "10\n"
     ]
    }
   ],
   "source": [
    "for number in range(1, 11):\n",
    "    print(number)"
   ]
  },
  {
   "cell_type": "markdown",
   "id": "a32e0d4d",
   "metadata": {},
   "source": [
    "."
   ]
  },
  {
   "cell_type": "markdown",
   "id": "81b4ef9e",
   "metadata": {},
   "source": [
    "2. Write a program to print the even numbers between 1 and 20 using a for loop."
   ]
  },
  {
   "cell_type": "code",
   "execution_count": 7,
   "id": "ea7b92e5",
   "metadata": {},
   "outputs": [
    {
     "name": "stdout",
     "output_type": "stream",
     "text": [
      "2\n",
      "4\n",
      "6\n",
      "8\n",
      "10\n",
      "12\n",
      "14\n",
      "16\n",
      "18\n",
      "20\n"
     ]
    }
   ],
   "source": [
    "for number in range(2, 21, 2):\n",
    "    print(number)"
   ]
  },
  {
   "cell_type": "markdown",
   "id": "fae43351",
   "metadata": {},
   "source": [
    "."
   ]
  },
  {
   "cell_type": "markdown",
   "id": "862e6561",
   "metadata": {},
   "source": [
    "3. Write a program to calculate the sum of all numbers from 1 to 100 using a for loop."
   ]
  },
  {
   "cell_type": "code",
   "execution_count": 8,
   "id": "6b489708",
   "metadata": {},
   "outputs": [
    {
     "name": "stdout",
     "output_type": "stream",
     "text": [
      "The sum of all numbers from 1 to 100 is: 5050\n"
     ]
    }
   ],
   "source": [
    "total_sum = 0\n",
    "for number in range(1, 101):\n",
    "    total_sum += number\n",
    "\n",
    "print(\"The sum of all numbers from 1 to 100 is:\", total_sum)"
   ]
  },
  {
   "cell_type": "markdown",
   "id": "ec1244ec",
   "metadata": {},
   "source": [
    "4. Write a program to find the factorial of a given number using a for loop."
   ]
  },
  {
   "cell_type": "code",
   "execution_count": 9,
   "id": "7b5f6043",
   "metadata": {},
   "outputs": [
    {
     "name": "stdout",
     "output_type": "stream",
     "text": [
      "Factorial of 5 is: 120\n"
     ]
    }
   ],
   "source": [
    "def factorial(n):\n",
    "    result = 1\n",
    "    for i in range(1, n + 1):\n",
    "        result *= i\n",
    "    return result\n",
    "\n",
    "# Example usage:\n",
    "number = 5\n",
    "print(\"Factorial of\", number, \"is:\", factorial(number))"
   ]
  },
  {
   "cell_type": "markdown",
   "id": "0910a160",
   "metadata": {},
   "source": [
    "5. Write a program to print the Fibonacci series up to a certain limit using a for loop."
   ]
  },
  {
   "cell_type": "code",
   "execution_count": 16,
   "id": "caecbb6e",
   "metadata": {},
   "outputs": [
    {
     "name": "stdout",
     "output_type": "stream",
     "text": [
      "0 1 1 2 3 5 8 13 21 34 "
     ]
    }
   ],
   "source": [
    "def fibonacci(limit):\n",
    "    # Initialize the first two numbers of the series\n",
    "    first_num = 0\n",
    "    second_num = 1\n",
    "\n",
    "    # Print the first two numbers\n",
    "    print(first_num, end=\" \")\n",
    "    print(second_num, end=\" \")\n",
    "\n",
    "    # Calculate and print the subsequent numbers until the limit is reached\n",
    "    for _ in range(2, limit):\n",
    "        next_num = first_num + second_num\n",
    "        if next_num > limit:\n",
    "            break\n",
    "        print(next_num, end=\" \")\n",
    "        first_num, second_num = second_num, next_num\n",
    "\n",
    "# Example usage:\n",
    "fibonacci(50)"
   ]
  },
  {
   "cell_type": "markdown",
   "id": "9e7d9884",
   "metadata": {},
   "source": [
    "**While Loop:**"
   ]
  },
  {
   "cell_type": "markdown",
   "id": "52726302",
   "metadata": {},
   "source": [
    "1. Write a program to print the numbers from 1 to 10 using a while loop."
   ]
  },
  {
   "cell_type": "code",
   "execution_count": 11,
   "id": "fc44aae2",
   "metadata": {},
   "outputs": [
    {
     "name": "stdout",
     "output_type": "stream",
     "text": [
      "1\n",
      "2\n",
      "3\n",
      "4\n",
      "5\n",
      "6\n",
      "7\n",
      "8\n",
      "9\n",
      "10\n"
     ]
    }
   ],
   "source": [
    "number = 1\n",
    "while number <= 10:\n",
    "    print(number)\n",
    "    number += 1"
   ]
  },
  {
   "cell_type": "markdown",
   "id": "4737621e",
   "metadata": {},
   "source": [
    "2. Write a program to print the even numbers between 1 and 20 using a while loop."
   ]
  },
  {
   "cell_type": "code",
   "execution_count": 12,
   "id": "cf1fc856",
   "metadata": {},
   "outputs": [
    {
     "name": "stdout",
     "output_type": "stream",
     "text": [
      "2\n",
      "4\n",
      "6\n",
      "8\n",
      "10\n",
      "12\n",
      "14\n",
      "16\n",
      "18\n",
      "20\n"
     ]
    }
   ],
   "source": [
    "number = 2\n",
    "while number <= 20:\n",
    "    print(number)\n",
    "    number += 2"
   ]
  },
  {
   "cell_type": "markdown",
   "id": "d37bb8a4",
   "metadata": {},
   "source": [
    "3. Write a program to calculate the sum of all numbers from 1 to 100 using a while loop."
   ]
  },
  {
   "cell_type": "code",
   "execution_count": 13,
   "id": "2d079cc1",
   "metadata": {},
   "outputs": [
    {
     "name": "stdout",
     "output_type": "stream",
     "text": [
      "The sum of all numbers from 1 to 100 is: 5050\n"
     ]
    }
   ],
   "source": [
    "total_sum = 0\n",
    "number = 1\n",
    "\n",
    "while number <= 100:\n",
    "    total_sum += number\n",
    "    number += 1\n",
    "\n",
    "print(\"The sum of all numbers from 1 to 100 is:\", total_sum)"
   ]
  },
  {
   "cell_type": "markdown",
   "id": "2fcaab1f",
   "metadata": {},
   "source": [
    "4. Write a program to find the factorial of a given number using a while loop."
   ]
  },
  {
   "cell_type": "code",
   "execution_count": 14,
   "id": "3f43ebd6",
   "metadata": {},
   "outputs": [
    {
     "name": "stdout",
     "output_type": "stream",
     "text": [
      "Factorial of 5 is: 120\n"
     ]
    }
   ],
   "source": [
    "def factorial(n):\n",
    "    result = 1\n",
    "    while n > 0:\n",
    "        result *= n\n",
    "        n -= 1\n",
    "    return result\n",
    "\n",
    "# Example usage:\n",
    "number = 5\n",
    "print(\"Factorial of\", number, \"is:\", factorial(number))"
   ]
  },
  {
   "cell_type": "markdown",
   "id": "716b53e0",
   "metadata": {},
   "source": [
    "5. Write a program to print the Fibonacci series up to a certain limit using a while loop."
   ]
  },
  {
   "cell_type": "code",
   "execution_count": 15,
   "id": "8be80d35",
   "metadata": {},
   "outputs": [
    {
     "name": "stdout",
     "output_type": "stream",
     "text": [
      "Fibonacci series up to 50 is:\n",
      "0 1 1 2 3 5 8 13 21 34 "
     ]
    }
   ],
   "source": [
    "def fibonacci(limit):\n",
    "    # Initialize the first two numbers of the series\n",
    "    first_num, second_num = 0, 1\n",
    "\n",
    "    # Print the first two numbers\n",
    "    print(first_num, end=\" \")\n",
    "    print(second_num, end=\" \")\n",
    "\n",
    "    # Calculate and print the subsequent numbers until the limit is reached\n",
    "    while True:\n",
    "        next_num = first_num + second_num\n",
    "        if next_num > limit:\n",
    "            break\n",
    "        print(next_num, end=\" \")\n",
    "        first_num, second_num = second_num, next_num\n",
    "\n",
    "# Example usage:\n",
    "limit = 50\n",
    "print(\"Fibonacci series up to\", limit, \"is:\")\n",
    "fibonacci(limit)"
   ]
  },
  {
   "cell_type": "markdown",
   "id": "98898eb1",
   "metadata": {},
   "source": [
    "# Lambda Function:"
   ]
  },
  {
   "cell_type": "markdown",
   "id": "27836bbe",
   "metadata": {},
   "source": [
    "1. Write a lambda function to calculate the square of a number."
   ]
  },
  {
   "cell_type": "code",
   "execution_count": 21,
   "id": "4d9a83b7",
   "metadata": {},
   "outputs": [
    {
     "name": "stdout",
     "output_type": "stream",
     "text": [
      "Square of 5 is: 25\n"
     ]
    }
   ],
   "source": [
    "square = lambda x: x ** 2\n",
    "\n",
    "# Example usage:\n",
    "number = 5\n",
    "print(\"Square of\", number, \"is:\", square(number))"
   ]
  },
  {
   "cell_type": "markdown",
   "id": "a821bc2c",
   "metadata": {},
   "source": [
    "2. Create a list of numbers and use a lambda function to filter out the even numbers."
   ]
  },
  {
   "cell_type": "code",
   "execution_count": 20,
   "id": "f32d5999",
   "metadata": {},
   "outputs": [
    {
     "name": "stdout",
     "output_type": "stream",
     "text": [
      "Original list of numbers: [1, 2, 3, 4, 5, 6, 7, 8, 9, 10]\n",
      "Even numbers: [2, 4, 6, 8, 10]\n"
     ]
    }
   ],
   "source": [
    "numbers = [1, 2, 3, 4, 5, 6, 7, 8, 9, 10]\n",
    "\n",
    "# Use a lambda function to filter out the even numbers\n",
    "even_numbers = list(filter(lambda x: x % 2 == 0, numbers))\n",
    "\n",
    "print(\"Original list of numbers:\", numbers)\n",
    "print(\"Even numbers:\", even_numbers)"
   ]
  },
  {
   "cell_type": "markdown",
   "id": "681bc5c4",
   "metadata": {},
   "source": [
    "3. Write a lambda function to find the sum of two numbers."
   ]
  },
  {
   "cell_type": "code",
   "execution_count": 22,
   "id": "4a1378a0",
   "metadata": {},
   "outputs": [
    {
     "name": "stdout",
     "output_type": "stream",
     "text": [
      "Sum of 5 and 3 is: 8\n"
     ]
    }
   ],
   "source": [
    "addition = lambda x, y: x + y\n",
    "\n",
    "# Example usage:\n",
    "num1 = 5\n",
    "num2 = 3\n",
    "print(\"Sum of\", num1, \"and\", num2, \"is:\", addition(num1, num2))"
   ]
  },
  {
   "cell_type": "markdown",
   "id": "b7bf6878",
   "metadata": {},
   "source": [
    "4. Create a list of tuples containing student names and their corresponding scores. Use a lambda function to sort the list by scores."
   ]
  },
  {
   "cell_type": "code",
   "execution_count": 23,
   "id": "ba57650a",
   "metadata": {},
   "outputs": [
    {
     "name": "stdout",
     "output_type": "stream",
     "text": [
      "Sorted list of students by scores:\n",
      "('Charlie', 75)\n",
      "('David', 80)\n",
      "('Alice', 85)\n",
      "('Bob', 90)\n"
     ]
    }
   ],
   "source": [
    "# List of tuples containing student names and scores\n",
    "students = [(\"Alice\", 85), (\"Bob\", 90), (\"Charlie\", 75), (\"David\", 80)]\n",
    "\n",
    "# Sort the list by scores using a lambda function\n",
    "sorted_students = sorted(students, key=lambda x: x[1])\n",
    "\n",
    "# Print the sorted list\n",
    "print(\"Sorted list of students by scores:\")\n",
    "for student in sorted_students:\n",
    "    print(student)"
   ]
  },
  {
   "cell_type": "markdown",
   "id": "a0b22d28",
   "metadata": {},
   "source": [
    "5. Create a list of strings and use a lambda function to sort them alphabetically."
   ]
  },
  {
   "cell_type": "code",
   "execution_count": 24,
   "id": "970ff500",
   "metadata": {},
   "outputs": [
    {
     "name": "stdout",
     "output_type": "stream",
     "text": [
      "Sorted list of strings alphabetically:\n",
      "apple\n",
      "banana\n",
      "grape\n",
      "kiwi\n",
      "orange\n"
     ]
    }
   ],
   "source": [
    "# List of strings\n",
    "strings = [\"banana\", \"apple\", \"orange\", \"grape\", \"kiwi\"]\n",
    "\n",
    "# Sort the list alphabetically using a lambda function\n",
    "sorted_strings = sorted(strings, key=lambda x: x.lower())\n",
    "\n",
    "# Print the sorted list\n",
    "print(\"Sorted list of strings alphabetically:\")\n",
    "for string in sorted_strings:\n",
    "    print(string)"
   ]
  },
  {
   "cell_type": "markdown",
   "id": "2a2fab15",
   "metadata": {},
   "source": [
    "# UDF: Arguments and Parameters"
   ]
  },
  {
   "cell_type": "markdown",
   "id": "50d1568a",
   "metadata": {},
   "source": [
    "1. Write a function called add_numbers that takes two numbers as input and returns their sum."
   ]
  },
  {
   "cell_type": "code",
   "execution_count": 27,
   "id": "862a0c33",
   "metadata": {},
   "outputs": [
    {
     "name": "stdout",
     "output_type": "stream",
     "text": [
      "The sum of 5 and 3 is: 8\n"
     ]
    }
   ],
   "source": [
    "def add_numbers(num1, num2):\n",
    "    \"\"\"\n",
    "    Function to add two numbers and return their sum.\n",
    "\n",
    "    Parameters:\n",
    "    - num1: First number\n",
    "    - num2: Second number\n",
    "\n",
    "    Returns:\n",
    "    - Sum of num1 and num2\n",
    "    \"\"\"\n",
    "    return num1 + num2\n",
    "\n",
    "# Example usage:\n",
    "result = add_numbers(5, 3)\n",
    "print(\"The sum of 5 and 3 is:\", result)"
   ]
  },
  {
   "cell_type": "markdown",
   "id": "30d681b7",
   "metadata": {},
   "source": [
    "2. Create a function called is_even that takes a single number as input and returns True if it's even, otherwise False."
   ]
  },
  {
   "cell_type": "code",
   "execution_count": 33,
   "id": "cace541f",
   "metadata": {},
   "outputs": [
    {
     "name": "stdout",
     "output_type": "stream",
     "text": [
      "Is 2 even? True\n"
     ]
    }
   ],
   "source": [
    "def is_even(number):\n",
    "    \"\"\"\n",
    "    Function to check if a number is even.\n",
    "\n",
    "    Parameters:\n",
    "    - number: The number to check\n",
    "\n",
    "    Returns:\n",
    "    - True if the number is even, otherwise False\n",
    "    \"\"\"\n",
    "    return number % 2 == 0\n",
    "\n",
    "# Example usage:\n",
    "number = 2\n",
    "print(\"Is\", number, \"even?\", is_even(number))"
   ]
  },
  {
   "cell_type": "markdown",
   "id": "a530f64a",
   "metadata": {},
   "source": [
    "3. Define a function called calculate_area that calculates the area of a rectangle given its length and width as input parameters."
   ]
  },
  {
   "cell_type": "code",
   "execution_count": 34,
   "id": "371d2b99",
   "metadata": {},
   "outputs": [
    {
     "name": "stdout",
     "output_type": "stream",
     "text": [
      "The area of the rectangle with length 5 and width 3 is: 15\n"
     ]
    }
   ],
   "source": [
    "def calculate_area(length, width):\n",
    "    \"\"\"\n",
    "    Function to calculate the area of a rectangle.\n",
    "\n",
    "    Parameters:\n",
    "    - length: Length of the rectangle\n",
    "    - width: Width of the rectangle\n",
    "\n",
    "    Returns:\n",
    "    - Area of the rectangle (length * width)\n",
    "    \"\"\"\n",
    "    return length * width\n",
    "\n",
    "# Example usage:\n",
    "length = 5\n",
    "width = 3\n",
    "area = calculate_area(length, width)\n",
    "print(\"The area of the rectangle with length\", length, \"and width\", width, \"is:\", area)"
   ]
  },
  {
   "cell_type": "markdown",
   "id": "e34f804d",
   "metadata": {},
   "source": [
    "4. Write a function called reverse_string that takes a string as input and returns its reverse."
   ]
  },
  {
   "cell_type": "code",
   "execution_count": 35,
   "id": "cdf316e4",
   "metadata": {},
   "outputs": [
    {
     "name": "stdout",
     "output_type": "stream",
     "text": [
      "The reverse of hello is: olleh\n"
     ]
    }
   ],
   "source": [
    "def reverse_string(input_string):\n",
    "    \"\"\"\n",
    "    Function to reverse a string.\n",
    "\n",
    "    Parameters:\n",
    "    - input_string: The input string to be reversed\n",
    "\n",
    "    Returns:\n",
    "    - The reversed string\n",
    "    \"\"\"\n",
    "    return input_string[::-1]\n",
    "\n",
    "# Example usage:\n",
    "input_string = \"hello\"\n",
    "reversed_string = reverse_string(input_string)\n",
    "print(\"The reverse of\", input_string, \"is:\", reversed_string)"
   ]
  },
  {
   "cell_type": "markdown",
   "id": "fc78f7f7",
   "metadata": {},
   "source": [
    "5. Create a function called is_prime that takes a positive integer as input and returns True if it's prime, otherwise False."
   ]
  },
  {
   "cell_type": "code",
   "execution_count": 36,
   "id": "2336ba08",
   "metadata": {},
   "outputs": [
    {
     "name": "stdout",
     "output_type": "stream",
     "text": [
      "Is 17 prime? True\n"
     ]
    }
   ],
   "source": [
    "def is_prime(number):\n",
    "    \"\"\"\n",
    "    Function to check if a number is prime.\n",
    "\n",
    "    Parameters:\n",
    "    - number: The number to check\n",
    "\n",
    "    Returns:\n",
    "    - True if the number is prime, otherwise False\n",
    "    \"\"\"\n",
    "    if number <= 1:\n",
    "        return False\n",
    "    elif number == 2:\n",
    "        return True\n",
    "    elif number % 2 == 0:\n",
    "        return False\n",
    "    else:\n",
    "        for i in range(3, int(number ** 0.5) + 1, 2):\n",
    "            if number % i == 0:\n",
    "                return False\n",
    "        return True\n",
    "\n",
    "# Example usage:\n",
    "number = 17\n",
    "print(\"Is\", number, \"prime?\", is_prime(number))"
   ]
  }
 ],
 "metadata": {
  "kernelspec": {
   "display_name": "Python 3 (ipykernel)",
   "language": "python",
   "name": "python3"
  },
  "language_info": {
   "codemirror_mode": {
    "name": "ipython",
    "version": 3
   },
   "file_extension": ".py",
   "mimetype": "text/x-python",
   "name": "python",
   "nbconvert_exporter": "python",
   "pygments_lexer": "ipython3",
   "version": "3.11.5"
  }
 },
 "nbformat": 4,
 "nbformat_minor": 5
}
